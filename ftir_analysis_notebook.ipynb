{
 "cells": [
  {
   "cell_type": "markdown",
   "id": "ffc7f9bf",
   "metadata": {},
   "source": [
    "# FTIR Spectral Analysis - Dynamic Variable Selection and PCA/Clustering"
   ]
  },
  {
   "cell_type": "code",
   "execution_count": null,
   "id": "7371c40a",
   "metadata": {},
   "outputs": [],
   "source": [
    "import pandas as pd\n",
    "import numpy as np\n",
    "import matplotlib.pyplot as plt\n",
    "from scipy.signal import savgol_filter\n",
    "from sklearn.decomposition import PCA\n",
    "from sklearn.cluster import KMeans\n",
    "from sklearn.preprocessing import StandardScaler"
   ]
  },
  {
   "cell_type": "code",
   "execution_count": null,
   "id": "f85f090c",
   "metadata": {},
   "outputs": [],
   "source": [
    "# --- USER SETTINGS ---\n",
    "input_csv = \"soya-horas-normalized-1744max.csv\"\n",
    "skip_initial_hours = 5\n",
    "apply_range = True\n",
    "range_min = 500\n",
    "range_max = 4000\n",
    "savgol_params = (11, 3)\n",
    "auc_regions = [(500, 800), (900, 1000), (1100, 1200), (1300, 1400), (1600, 1800)]"
   ]
  },
  {
   "cell_type": "code",
   "execution_count": null,
   "id": "1173fb5d",
   "metadata": {},
   "outputs": [],
   "source": [
    "# --- STEP 1: Load and preprocess data ---\n",
    "df = pd.read_csv(input_csv, index_col=0)\n",
    "df = df[[col for col in df.columns if float(col) >= skip_initial_hours]]\n",
    "\n",
    "smoothed = df.apply(lambda col: savgol_filter(col, *savgol_params), axis=0)\n",
    "smoothed = pd.DataFrame(smoothed, index=df.index, columns=df.columns)\n",
    "norm_df = smoothed.apply(lambda col: col / col.max(), axis=0)\n",
    "\n",
    "if apply_range:\n",
    "    norm_df = norm_df[(norm_df.index >= range_min) & (norm_df.index <= range_max)]"
   ]
  },
  {
   "cell_type": "code",
   "execution_count": null,
   "id": "6adc0df8",
   "metadata": {},
   "outputs": [],
   "source": [
    "# --- STEP 2: Compute slopes ---\n",
    "times = np.array([float(c) for c in norm_df.columns])\n",
    "slopes = norm_df.apply(lambda row: np.polyfit(times, row.values, 1)[0], axis=1)"
   ]
  },
  {
   "cell_type": "code",
   "execution_count": null,
   "id": "119580e3",
   "metadata": {},
   "outputs": [],
   "source": [
    "# --- STEP 3: Select dynamic wavenumbers ---\n",
    "def select_dynamic_wavenumbers(slopes, step=100, top_n=5):\n",
    "    candidates = []\n",
    "    for start in range(range_min, range_max, step):\n",
    "        region = slopes[(slopes.index >= start) & (slopes.index < start + step)]\n",
    "        if not region.empty:\n",
    "            max_wn = region.abs().idxmax()\n",
    "            candidates.append((max_wn, abs(region[max_wn])))\n",
    "    top = sorted(candidates, key=lambda x: x[1], reverse=True)[:top_n]\n",
    "    return [wn for wn, _ in top]\n",
    "\n",
    "top_wavenumbers = select_dynamic_wavenumbers(slopes)"
   ]
  },
  {
   "cell_type": "code",
   "execution_count": null,
   "id": "e21dd6bc",
   "metadata": {},
   "outputs": [],
   "source": [
    "# --- STEP 4: Compute AUCs ---\n",
    "auc_data = []\n",
    "for start, end in auc_regions:\n",
    "    region = norm_df[(norm_df.index >= start) & (norm_df.index < end)]\n",
    "    auc = np.trapz(region, x=region.index, axis=0)\n",
    "    auc_data.append(auc)\n",
    "X_auc = pd.DataFrame(auc_data).T\n",
    "X_auc.columns = [f\"{start}-{end}\" for start, end in auc_regions]"
   ]
  },
  {
   "cell_type": "code",
   "execution_count": null,
   "id": "8b9202e8",
   "metadata": {},
   "outputs": [],
   "source": [
    "# --- STEP 5: PCA and Clustering ---\n",
    "def apply_pca_clustering(X, label):\n",
    "    scaled = StandardScaler().fit_transform(X)\n",
    "    pca = PCA(n_components=2)\n",
    "    X_pca = pca.fit_transform(scaled)\n",
    "    clusters = KMeans(n_clusters=3, random_state=42).fit_predict(scaled)\n",
    "    plt.figure(figsize=(6, 5))\n",
    "    plt.scatter(X_pca[:, 0], X_pca[:, 1], c=clusters, cmap='Set1')\n",
    "    plt.title(f\"KMeans Clustering - {label}\")\n",
    "    plt.xlabel(\"PC1\")\n",
    "    plt.ylabel(\"PC2\")\n",
    "    plt.grid(True)\n",
    "    plt.tight_layout()\n",
    "    plt.show()\n",
    "    print(f\"Explained variance ({label}): PC1 = {pca.explained_variance_ratio_[0]:.3f}, PC2 = {pca.explained_variance_ratio_[1]:.3f}\")\n",
    "    return clusters, pca.explained_variance_ratio_"
   ]
  },
  {
   "cell_type": "code",
   "execution_count": null,
   "id": "fd90dc2e",
   "metadata": {},
   "outputs": [],
   "source": [
    "# Apply to top dynamic wavenumbers\n",
    "X_top = norm_df.loc[top_wavenumbers].T\n",
    "clusters_top, var_top = apply_pca_clustering(X_top, \"Top 5 Dynamic Wavenumbers\")\n",
    "\n",
    "# Apply to AUC regions\n",
    "clusters_auc, var_auc = apply_pca_clustering(X_auc, \"AUC of Spectral Regions\")"
   ]
  },
  {
   "cell_type": "code",
   "execution_count": null,
   "id": "0f75b84e",
   "metadata": {},
   "outputs": [],
   "source": [
    "# Save selected variables (optional)\n",
    "X_top.to_csv(\"selected_wavenumbers_top5.csv\")\n",
    "X_auc.to_csv(\"auc_regions_summary.csv\")"
   ]
  }
 ],
 "metadata": {},
 "nbformat": 4,
 "nbformat_minor": 5
}
